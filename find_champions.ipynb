{
 "cells": [
  {
   "cell_type": "code",
   "execution_count": 23,
   "metadata": {},
   "outputs": [],
   "source": [
    "import numpy as np\n",
    "import networkx as nx\n",
    "import matplotlib.pyplot as plt\n",
    "\n",
    "from typing import Set"
   ]
  },
  {
   "cell_type": "code",
   "execution_count": 50,
   "metadata": {},
   "outputs": [],
   "source": [
    "connection_matrix = np.array([\n",
    "    [0,1,0,1,0,0,0],\n",
    "    [1,0,1,0,0,0,0],\n",
    "    [0,0,0,0,1,1,0],\n",
    "    [0,1,1,0,0,0,0],\n",
    "    [0,0,0,0,0,0,1],\n",
    "    [0,0,0,0,1,0,0],\n",
    "    [0,0,0,0,0,1,0]\n",
    "])"
   ]
  },
  {
   "cell_type": "code",
   "execution_count": 51,
   "metadata": {},
   "outputs": [],
   "source": [
    "graph = nx.from_numpy_array(connection_matrix, create_using=nx.DiGraph)\n",
    "names = {i:chr(ord('A')+i ) for i in graph.nodes}\n",
    "graph = nx.relabel_nodes(graph, names)"
   ]
  },
  {
   "cell_type": "code",
   "execution_count": 52,
   "metadata": {},
   "outputs": [],
   "source": [
    "def draw_graph(graph: nx.Graph):\n",
    "        \"\"\"Function that draws this specific graph\n",
    "         -\"\"\"\n",
    "        fig, ax = plt.subplots()\n",
    "        layout = nx.kamada_kawai_layout(graph)\n",
    "        node_colors = ['lightblue']*7\n",
    "        nx.draw_networkx_nodes(graph, pos= layout, node_color=node_colors, ax = ax) \n",
    "        nx.draw_networkx_labels(graph, pos =layout,font_color='black', ax = ax)\n",
    "        nx.draw_networkx_edges(graph, layout, edge_color='black', ax = ax)"
   ]
  },
  {
   "cell_type": "code",
   "execution_count": 53,
   "metadata": {},
   "outputs": [
    {
     "data": {
      "image/png": "[encoded data removed]",
      "text/plain": [
       "<Figure size 640x480 with 1 Axes>"
      ]
     },
     "metadata": {},
     "output_type": "display_data"
    }
   ],
   "source": [
    "draw_graph(graph)"
   ]
  },
  {
   "cell_type": "code",
   "execution_count": 18,
   "metadata": {},
   "outputs": [
    {
     "data": {
      "text/plain": [
       "[{'E', 'F', 'G'}, {'C'}, {'A', 'B'}, {'D'}]"
      ]
     },
     "execution_count": 18,
     "metadata": {},
     "output_type": "execute_result"
    }
   ],
   "source": [
    "list(nx.strongly_connected_components(graph))"
   ]
  },
  {
   "cell_type": "code",
   "execution_count": 65,
   "metadata": {},
   "outputs": [],
   "source": [
    "def find_champions(graph: nx.graph):\n",
    "    champions = []\n",
    "\n",
    "    def traverse(graph: nx.graph,start_node: str):\n",
    "        nonlocal nodes_left\n",
    "        nonlocal champions  \n",
    "        for child in graph.successors(start_node):\n",
    "            if child in champions: # if we can reach a champion, then we have a new another champion\n",
    "                champions.append(start_node)\n",
    "                return\n",
    "            if child in nodes_left:\n",
    "                nodes_left -= set(child)\n",
    "                traverse(graph, child)\n",
    "    \n",
    "    for node in graph:\n",
    "        nodes_left = set(graph.nodes).difference(node)\n",
    "        traverse(graph,node)\n",
    "        # print(node, nodes_left)\n",
    "        if len(nodes_left) == 0:\n",
    "            champions.append(node)\n",
    "    \n",
    "    print(champions)\n",
    "\n",
    "    "
   ]
  },
  {
   "cell_type": "code",
   "execution_count": 66,
   "metadata": {},
   "outputs": [
    {
     "name": "stdout",
     "output_type": "stream",
     "text": [
      "['A', 'B', 'D']\n"
     ]
    }
   ],
   "source": [
    "find_champions(graph)"
   ]
  },
  {
   "cell_type": "code",
   "execution_count": 68,
   "metadata": {},
   "outputs": [
    {
     "data": {
      "text/markdown": [
       "\n",
       "find groups that have defeated each other. \n",
       "This simply become the task of finding strongly connected components. \n",
       "Using networkx this task becomes simple:\n"
      ],
      "text/plain": [
       "<IPython.core.display.Markdown object>"
      ]
     },
     "metadata": {},
     "output_type": "display_data"
    }
   ],
   "source": [
    "\n",
    "%%markdown\n",
    "\n",
    "find groups that have defeated each other. \n",
    "This simply become the task of finding strongly connected components. \n",
    "Using networkx this task becomes simple:\n"
   ]
  },
  {
   "cell_type": "code",
   "execution_count": 67,
   "metadata": {},
   "outputs": [
    {
     "data": {
      "text/plain": [
       "[{'E', 'F', 'G'}, {'C'}, {'A', 'B', 'D'}]"
      ]
     },
     "execution_count": 67,
     "metadata": {},
     "output_type": "execute_result"
    }
   ],
   "source": [
    "list(nx.strongly_connected_components(graph))"
   ]
  },
  {
   "cell_type": "code",
   "execution_count": 75,
   "metadata": {},
   "outputs": [
    {
     "data": {
      "text/markdown": [
       "\n",
       "the running time for this is then simply $O(V + E)$\n",
       "from the definition of the SCC algorithm \n",
       "(unless nx uses some faster algorithm)\n"
      ],
      "text/plain": [
       "<IPython.core.display.Markdown object>"
      ]
     },
     "metadata": {},
     "output_type": "display_data"
    }
   ],
   "source": [
    "%%markdown\n",
    "\n",
    "the running time for this is then simply $O(V + E)$\n",
    "from the definition of the SCC algorithm \n",
    "(unless nx uses some faster algorithm)"
   ]
  },
  {
   "cell_type": "code",
   "execution_count": null,
   "metadata": {},
   "outputs": [],
   "source": []
  }
 ],
 "metadata": {
  "kernelspec": {
   "display_name": "pyenv1",
   "language": "python",
   "name": "python3"
  },
  "language_info": {
   "codemirror_mode": {
    "name": "ipython",
    "version": 3
   },
   "file_extension": ".py",
   "mimetype": "text/x-python",
   "name": "python",
   "nbconvert_exporter": "python",
   "pygments_lexer": "ipython3",
   "version": "3.12.0"
  }
 },
 "nbformat": 4,
 "nbformat_minor": 2
}
